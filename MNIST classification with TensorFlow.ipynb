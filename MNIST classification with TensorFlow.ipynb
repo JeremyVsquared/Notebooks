{
 "cells": [
  {
   "cell_type": "code",
   "execution_count": 1,
   "metadata": {
    "collapsed": false
   },
   "outputs": [],
   "source": [
    "import tflearn\n",
    "from tflearn.layers.core import input_data, dropout, fully_connected\n",
    "from tflearn.layers.conv import conv_2d, max_pool_2d\n",
    "from tflearn.layers.normalization import local_response_normalization\n",
    "from tflearn.layers.estimator import regression"
   ]
  },
  {
   "cell_type": "markdown",
   "metadata": {},
   "source": [
    "Now import the MNIST data set which fortunately is included in TFLearn"
   ]
  },
  {
   "cell_type": "code",
   "execution_count": 2,
   "metadata": {
    "collapsed": true
   },
   "outputs": [],
   "source": [
    "import tflearn.datasets.mnist as mnist"
   ]
  },
  {
   "cell_type": "markdown",
   "metadata": {},
   "source": [
    "# Convolutional Neural Network"
   ]
  },
  {
   "cell_type": "markdown",
   "metadata": {},
   "source": [
    "For proper evaluation, we now split into train and test sets and prepare the predictors for the network. As the names imply, the train set will be used for training the network and test set will be used to evaluate it's performance after training."
   ]
  },
  {
   "cell_type": "code",
   "execution_count": 3,
   "metadata": {
    "collapsed": false
   },
   "outputs": [
    {
     "name": "stdout",
     "output_type": "stream",
     "text": [
      "Extracting mnist/train-images-idx3-ubyte.gz\n",
      "Extracting mnist/train-labels-idx1-ubyte.gz\n",
      "Extracting mnist/t10k-images-idx3-ubyte.gz\n",
      "Extracting mnist/t10k-labels-idx1-ubyte.gz\n"
     ]
    }
   ],
   "source": [
    "X_train, y_train, X_test, y_test = mnist.load_data(one_hot=True)\n",
    "X_train = X_train.reshape([-1, 28, 28, 1])\n",
    "X_test = X_test.reshape([-1, 28, 28, 1])"
   ]
  },
  {
   "cell_type": "markdown",
   "metadata": {},
   "source": [
    "Here we construct the convolutional neural network"
   ]
  },
  {
   "cell_type": "code",
   "execution_count": 4,
   "metadata": {
    "collapsed": true
   },
   "outputs": [],
   "source": [
    "cnn = input_data(shape=[None, 28, 28, 1], name='input')\n",
    "cnn = conv_2d(cnn, 32, 3, activation='relu', regularizer=\"L2\")\n",
    "cnn = max_pool_2d(cnn, 2)\n",
    "cnn = local_response_normalization(cnn)\n",
    "\n",
    "cnn = conv_2d(cnn, 64, 3, activation='relu', regularizer=\"L2\")\n",
    "cnn = max_pool_2d(cnn, 2)\n",
    "\n",
    "cnn = local_response_normalization(cnn)\n",
    "cnn = fully_connected(cnn, 128, activation='tanh')\n",
    "\n",
    "cnn = dropout(cnn, 0.8)\n",
    "cnn = fully_connected(cnn, 256, activation='tanh')\n",
    "cnn = dropout(cnn, 0.8)\n",
    "cnn = fully_connected(cnn, 10, activation='softmax')\n",
    "\n",
    "cnn = regression(cnn, optimizer='sgd', learning_rate=0.01, loss='categorical_crossentropy', name='target')"
   ]
  },
  {
   "cell_type": "markdown",
   "metadata": {},
   "source": [
    "Now we hand the training data over to the network for training"
   ]
  },
  {
   "cell_type": "code",
   "execution_count": 5,
   "metadata": {
    "collapsed": false
   },
   "outputs": [
    {
     "name": "stdout",
     "output_type": "stream",
     "text": [
      "Training Step: 8599  | total loss: \u001b[1m\u001b[32m0.15558\u001b[0m\u001b[0m | time: 239.450s\n",
      "| SGD | epoch: 010 | loss: 0.15558 - acc: 0.9763 -- iter: 54976/55000\n",
      "Training Step: 8600  | total loss: \u001b[1m\u001b[32m0.15130\u001b[0m\u001b[0m | time: 249.156s\n",
      "| SGD | epoch: 010 | loss: 0.15130 - acc: 0.9739 | val_loss: 0.06213 - val_acc: 0.9796 -- iter: 55000/55000\n",
      "--\n"
     ]
    }
   ],
   "source": [
    "mdl = tflearn.DNN(cnn, tensorboard_verbose=0)\n",
    "mdl.fit({'input': X_train}, {'target': y_train}, n_epoch=10, validation_set=({'input': X_test}, {'target': y_test}), snapshot_step=100, show_metric=True, run_id='cnn_mnist')"
   ]
  },
  {
   "cell_type": "markdown",
   "metadata": {},
   "source": [
    "A quick 10 epochs gets us to 98% accuracy"
   ]
  },
  {
   "cell_type": "code",
   "execution_count": null,
   "metadata": {
    "collapsed": true
   },
   "outputs": [],
   "source": []
  }
 ],
 "metadata": {
  "anaconda-cloud": {},
  "kernelspec": {
   "display_name": "Python [conda root]",
   "language": "python",
   "name": "conda-root-py"
  },
  "language_info": {
   "codemirror_mode": {
    "name": "ipython",
    "version": 2
   },
   "file_extension": ".py",
   "mimetype": "text/x-python",
   "name": "python",
   "nbconvert_exporter": "python",
   "pygments_lexer": "ipython2",
   "version": "2.7.12"
  }
 },
 "nbformat": 4,
 "nbformat_minor": 1
}
