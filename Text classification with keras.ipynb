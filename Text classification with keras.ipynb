{
 "cells": [
  {
   "cell_type": "code",
   "execution_count": 1,
   "metadata": {},
   "outputs": [
    {
     "name": "stderr",
     "output_type": "stream",
     "text": [
      "Using TensorFlow backend.\n"
     ]
    }
   ],
   "source": [
    "import numpy as np\n",
    "from keras.models import Sequential\n",
    "from keras.layers.core import Dense, Dropout, Activation, Flatten\n",
    "from keras.layers.embeddings import Embedding\n",
    "from keras.preprocessing import sequence\n",
    "from keras.layers import LSTM\n",
    "from keras.layers.convolutional import Convolution1D, MaxPooling1D\n",
    "from keras.utils import np_utils, to_categorical\n",
    "from keras.preprocessing.text import Tokenizer\n",
    "from keras.preprocessing import sequence\n",
    "\n",
    "from keras.datasets import reuters"
   ]
  },
  {
   "cell_type": "markdown",
   "metadata": {},
   "source": [
    "# Load & prep data"
   ]
  },
  {
   "cell_type": "code",
   "execution_count": 25,
   "metadata": {
    "scrolled": true
   },
   "outputs": [],
   "source": [
    "(X_train_raw, y_train_raw), (X_test_raw, y_test_raw) = reuters.load_data(num_words=1000, test_split=0.2)"
   ]
  },
  {
   "cell_type": "code",
   "execution_count": 26,
   "metadata": {},
   "outputs": [
    {
     "name": "stdout",
     "output_type": "stream",
     "text": [
      "[1, 2, 2, 8, 43, 10, 447, 5, 25, 207, 270, 5, 2, 111, 16, 369, 186, 90, 67, 7, 89, 5, 19, 102, 6, 19, 124, 15, 90, 67, 84, 22, 482, 26, 7, 48, 4, 49, 8, 864, 39, 209, 154, 6, 151, 6, 83, 11, 15, 22, 155, 11, 15, 7, 48, 9, 2, 2, 504, 6, 258, 6, 272, 11, 15, 22, 134, 44, 11, 15, 16, 8, 197, 2, 90, 67, 52, 29, 209, 30, 32, 132, 6, 109, 15, 17, 12]\n"
     ]
    }
   ],
   "source": [
    "print(X_train_raw[0])"
   ]
  },
  {
   "cell_type": "code",
   "execution_count": 27,
   "metadata": {},
   "outputs": [
    {
     "name": "stdout",
     "output_type": "stream",
     "text": [
      "3\n"
     ]
    }
   ],
   "source": [
    "print(y_train_raw[0])"
   ]
  },
  {
   "cell_type": "code",
   "execution_count": 28,
   "metadata": {},
   "outputs": [
    {
     "name": "stdout",
     "output_type": "stream",
     "text": [
      "Categories: 46\n"
     ]
    }
   ],
   "source": [
    "num_classes = np.max(y_train_raw) + 1\n",
    "print(\"Categories: {}\".format(num_classes))"
   ]
  },
  {
   "cell_type": "code",
   "execution_count": 29,
   "metadata": {},
   "outputs": [],
   "source": [
    "tokenizer = Tokenizer(num_words=1000)\n",
    "X_train = tokenizer.sequences_to_matrix(X_train_raw, mode='binary')\n",
    "X_test = tokenizer.sequences_to_matrix(X_test_raw, mode='binary')"
   ]
  },
  {
   "cell_type": "code",
   "execution_count": 30,
   "metadata": {},
   "outputs": [],
   "source": [
    "y_train = to_categorical(y_train_raw, num_classes)\n",
    "y_test = to_categorical(y_test_raw, num_classes)"
   ]
  },
  {
   "cell_type": "markdown",
   "metadata": {},
   "source": [
    "# Simple model\n",
    "\n",
    "## Build model\n",
    "\n",
    "Pretty straight forward 3 dense layers + dropout."
   ]
  },
  {
   "cell_type": "code",
   "execution_count": 51,
   "metadata": {},
   "outputs": [],
   "source": [
    "mdl = Sequential()\n",
    "\n",
    "mdl.add(Dense(256, input_shape=(1000,)))\n",
    "mdl.add(Dense(256))\n",
    "mdl.add(Dense(256))\n",
    "mdl.add(Activation('relu'))\n",
    "mdl.add(Dropout(0.5))\n",
    "\n",
    "mdl.add(Dense(num_classes))\n",
    "mdl.add(Activation('softmax'))"
   ]
  },
  {
   "cell_type": "code",
   "execution_count": 52,
   "metadata": {},
   "outputs": [],
   "source": [
    "mdl.compile(loss='binary_crossentropy', optimizer='rmsprop', metrics=['accuracy'])"
   ]
  },
  {
   "cell_type": "markdown",
   "metadata": {},
   "source": [
    "## Train model"
   ]
  },
  {
   "cell_type": "code",
   "execution_count": 53,
   "metadata": {},
   "outputs": [
    {
     "name": "stdout",
     "output_type": "stream",
     "text": [
      "Train on 8982 samples, validate on 2246 samples\n",
      "Epoch 1/1\n",
      "8982/8982 [==============================] - 2s 188us/step - loss: 0.0427 - acc: 0.9889 - val_loss: 0.0359 - val_acc: 0.9903\n"
     ]
    },
    {
     "data": {
      "text/plain": [
       "<keras.callbacks.History at 0x1211d3290>"
      ]
     },
     "execution_count": 53,
     "metadata": {},
     "output_type": "execute_result"
    }
   ],
   "source": [
    "mdl.fit(X_train, y_train, batch_size=64, epochs=1, validation_data=(X_test, y_test))"
   ]
  },
  {
   "cell_type": "code",
   "execution_count": 54,
   "metadata": {},
   "outputs": [
    {
     "name": "stdout",
     "output_type": "stream",
     "text": [
      "Train on 8982 samples, validate on 2246 samples\n",
      "Epoch 1/12\n",
      "8982/8982 [==============================] - 1s 106us/step - loss: 0.0294 - acc: 0.9919 - val_loss: 0.0334 - val_acc: 0.9908\n",
      "Epoch 2/12\n",
      "8982/8982 [==============================] - 1s 107us/step - loss: 0.0243 - acc: 0.9932 - val_loss: 0.0324 - val_acc: 0.9913\n",
      "Epoch 3/12\n",
      "8982/8982 [==============================] - 1s 101us/step - loss: 0.0205 - acc: 0.9942 - val_loss: 0.0331 - val_acc: 0.9917\n",
      "Epoch 4/12\n",
      "8982/8982 [==============================] - 1s 108us/step - loss: 0.0186 - acc: 0.9946 - val_loss: 0.0341 - val_acc: 0.9912\n",
      "Epoch 5/12\n",
      "8982/8982 [==============================] - 1s 109us/step - loss: 0.0168 - acc: 0.9950 - val_loss: 0.0372 - val_acc: 0.9910\n",
      "Epoch 6/12\n",
      "8982/8982 [==============================] - 1s 110us/step - loss: 0.0156 - acc: 0.9954 - val_loss: 0.0358 - val_acc: 0.9913\n",
      "Epoch 7/12\n",
      "8982/8982 [==============================] - 1s 109us/step - loss: 0.0140 - acc: 0.9957 - val_loss: 0.0392 - val_acc: 0.9905\n",
      "Epoch 8/12\n",
      "8982/8982 [==============================] - 1s 110us/step - loss: 0.0135 - acc: 0.9960 - val_loss: 0.0397 - val_acc: 0.9911\n",
      "Epoch 9/12\n",
      "8982/8982 [==============================] - 1s 108us/step - loss: 0.0128 - acc: 0.9961 - val_loss: 0.0443 - val_acc: 0.9909\n",
      "Epoch 10/12\n",
      "8982/8982 [==============================] - 1s 102us/step - loss: 0.0122 - acc: 0.9963 - val_loss: 0.0425 - val_acc: 0.9908\n",
      "Epoch 11/12\n",
      "8982/8982 [==============================] - 1s 108us/step - loss: 0.0117 - acc: 0.9965 - val_loss: 0.0476 - val_acc: 0.9910\n",
      "Epoch 12/12\n",
      "8982/8982 [==============================] - 1s 107us/step - loss: 0.0109 - acc: 0.9966 - val_loss: 0.0480 - val_acc: 0.9907\n"
     ]
    },
    {
     "data": {
      "text/plain": [
       "<keras.callbacks.History at 0x11fa0da90>"
      ]
     },
     "execution_count": 54,
     "metadata": {},
     "output_type": "execute_result"
    }
   ],
   "source": [
    "mdl.fit(X_train, y_train, batch_size=64, epochs=12, validation_data=(X_test, y_test))"
   ]
  },
  {
   "cell_type": "markdown",
   "metadata": {},
   "source": [
    "# CNN LSTM"
   ]
  },
  {
   "cell_type": "markdown",
   "metadata": {},
   "source": [
    "## Load & prep data"
   ]
  },
  {
   "cell_type": "code",
   "execution_count": 34,
   "metadata": {},
   "outputs": [],
   "source": [
    "(X_train, y_train), (X_test, y_test) = reuters.load_data(num_words=1000)\n",
    "\n",
    "X_train = sequence.pad_sequences(X_train, maxlen=100)\n",
    "X_test = sequence.pad_sequences(X_test, maxlen=100)\n",
    "\n",
    "y_train = to_categorical(y_train, num_classes)\n",
    "y_test = to_categorical(y_test, num_classes)"
   ]
  },
  {
   "cell_type": "markdown",
   "metadata": {},
   "source": [
    "# Build model"
   ]
  },
  {
   "cell_type": "code",
   "execution_count": 86,
   "metadata": {},
   "outputs": [],
   "source": [
    "mdl = Sequential()\n",
    "\n",
    "mdl.add(Embedding(1000, 128, input_length=100))\n",
    "mdl.add(Dropout(0.25))\n",
    "\n",
    "mdl.add(Convolution1D(filters=64, kernel_size=5, padding='valid', activation='relu', strides=1))\n",
    "mdl.add(MaxPooling1D(pool_size=4))\n",
    "\n",
    "mdl.add(LSTM(70))\n",
    "mdl.add(Dense(num_classes))\n",
    "mdl.add(Activation('sigmoid'))"
   ]
  },
  {
   "cell_type": "code",
   "execution_count": 87,
   "metadata": {},
   "outputs": [],
   "source": [
    "mdl.compile(loss='binary_crossentropy', optimizer='adam', metrics=['accuracy'])"
   ]
  },
  {
   "cell_type": "markdown",
   "metadata": {},
   "source": [
    "## Train model"
   ]
  },
  {
   "cell_type": "code",
   "execution_count": 88,
   "metadata": {
    "scrolled": true
   },
   "outputs": [
    {
     "name": "stdout",
     "output_type": "stream",
     "text": [
      "Train on 8982 samples, validate on 2246 samples\n",
      "Epoch 1/1\n",
      "8982/8982 [==============================] - 32s 4ms/step - loss: 0.1091 - acc: 0.9711 - val_loss: 0.0721 - val_acc: 0.9783\n"
     ]
    },
    {
     "data": {
      "text/plain": [
       "<keras.callbacks.History at 0x125e3e750>"
      ]
     },
     "execution_count": 88,
     "metadata": {},
     "output_type": "execute_result"
    }
   ],
   "source": [
    "mdl.fit(X_train, y_train, epochs=1, batch_size=28, validation_data=(X_test, y_test))"
   ]
  },
  {
   "cell_type": "code",
   "execution_count": 89,
   "metadata": {},
   "outputs": [],
   "source": [
    "mdl.optimizer.lr = 0.1"
   ]
  },
  {
   "cell_type": "code",
   "execution_count": 90,
   "metadata": {},
   "outputs": [
    {
     "name": "stdout",
     "output_type": "stream",
     "text": [
      "Train on 8982 samples, validate on 2246 samples\n",
      "Epoch 1/2\n",
      "8982/8982 [==============================] - 31s 3ms/step - loss: 0.0671 - acc: 0.9818 - val_loss: 0.0620 - val_acc: 0.9847\n",
      "Epoch 2/2\n",
      "8982/8982 [==============================] - 30s 3ms/step - loss: 0.0599 - acc: 0.9846 - val_loss: 0.0593 - val_acc: 0.9848\n"
     ]
    },
    {
     "data": {
      "text/plain": [
       "<keras.callbacks.History at 0x125d6df90>"
      ]
     },
     "execution_count": 90,
     "metadata": {},
     "output_type": "execute_result"
    }
   ],
   "source": [
    "mdl.fit(X_train, y_train, epochs=2, batch_size=28, validation_data=(X_test, y_test))"
   ]
  },
  {
   "cell_type": "code",
   "execution_count": 91,
   "metadata": {},
   "outputs": [],
   "source": [
    "mdl.optimizer.lr = 0.01"
   ]
  },
  {
   "cell_type": "code",
   "execution_count": 92,
   "metadata": {},
   "outputs": [
    {
     "name": "stdout",
     "output_type": "stream",
     "text": [
      "Train on 8982 samples, validate on 2246 samples\n",
      "Epoch 1/2\n",
      "8982/8982 [==============================] - 30s 3ms/step - loss: 0.0583 - acc: 0.9847 - val_loss: 0.0585 - val_acc: 0.9848\n",
      "Epoch 2/2\n",
      "8982/8982 [==============================] - 30s 3ms/step - loss: 0.0574 - acc: 0.9849 - val_loss: 0.0580 - val_acc: 0.9849\n"
     ]
    },
    {
     "data": {
      "text/plain": [
       "<keras.callbacks.History at 0x127283f10>"
      ]
     },
     "execution_count": 92,
     "metadata": {},
     "output_type": "execute_result"
    }
   ],
   "source": [
    "mdl.fit(X_train, y_train, epochs=2, batch_size=28, validation_data=(X_test, y_test))"
   ]
  },
  {
   "cell_type": "code",
   "execution_count": 93,
   "metadata": {},
   "outputs": [
    {
     "name": "stdout",
     "output_type": "stream",
     "text": [
      "Train on 8982 samples, validate on 2246 samples\n",
      "Epoch 1/5\n",
      "8982/8982 [==============================] - 30s 3ms/step - loss: 0.0566 - acc: 0.9850 - val_loss: 0.0578 - val_acc: 0.9848\n",
      "Epoch 2/5\n",
      "8982/8982 [==============================] - 30s 3ms/step - loss: 0.0549 - acc: 0.9857 - val_loss: 0.0562 - val_acc: 0.9860\n",
      "Epoch 3/5\n",
      "8982/8982 [==============================] - 30s 3ms/step - loss: 0.0527 - acc: 0.9870 - val_loss: 0.0553 - val_acc: 0.9863\n",
      "Epoch 4/5\n",
      "8982/8982 [==============================] - 30s 3ms/step - loss: 0.0509 - acc: 0.9878 - val_loss: 0.0546 - val_acc: 0.9863\n",
      "Epoch 5/5\n",
      "8982/8982 [==============================] - 30s 3ms/step - loss: 0.0494 - acc: 0.9883 - val_loss: 0.0537 - val_acc: 0.9867\n"
     ]
    },
    {
     "data": {
      "text/plain": [
       "<keras.callbacks.History at 0x127245750>"
      ]
     },
     "execution_count": 93,
     "metadata": {},
     "output_type": "execute_result"
    }
   ],
   "source": [
    "mdl.fit(X_train, y_train, epochs=5, batch_size=28, validation_data=(X_test, y_test))"
   ]
  },
  {
   "cell_type": "markdown",
   "metadata": {},
   "source": [
    "## Complicating things"
   ]
  },
  {
   "cell_type": "markdown",
   "metadata": {},
   "source": [
    "### Build model"
   ]
  },
  {
   "cell_type": "code",
   "execution_count": 101,
   "metadata": {},
   "outputs": [],
   "source": [
    "mdl = Sequential()\n",
    "\n",
    "mdl.add(Embedding(1000, 128, input_length=100))\n",
    "mdl.add(Dropout(0.25))\n",
    "\n",
    "mdl.add(Convolution1D(filters=128, kernel_size=5, padding='valid', activation='relu', strides=1))\n",
    "mdl.add(Convolution1D(filters=64, kernel_size=5, padding='valid', activation='relu', strides=1))\n",
    "mdl.add(Convolution1D(filters=32, kernel_size=5, padding='valid', activation='relu', strides=1))\n",
    "mdl.add(MaxPooling1D(pool_size=4))\n",
    "\n",
    "mdl.add(LSTM(70))\n",
    "mdl.add(Dense(num_classes))\n",
    "mdl.add(Activation('sigmoid'))"
   ]
  },
  {
   "cell_type": "code",
   "execution_count": 102,
   "metadata": {},
   "outputs": [],
   "source": [
    "mdl.compile(loss='binary_crossentropy', optimizer='adam', metrics=['accuracy'])"
   ]
  },
  {
   "cell_type": "markdown",
   "metadata": {},
   "source": [
    "### Train model"
   ]
  },
  {
   "cell_type": "code",
   "execution_count": 103,
   "metadata": {},
   "outputs": [
    {
     "name": "stdout",
     "output_type": "stream",
     "text": [
      "Train on 8982 samples, validate on 2246 samples\n",
      "Epoch 1/1\n",
      "8982/8982 [==============================] - 43s 5ms/step - loss: 0.1099 - acc: 0.9706 - val_loss: 0.0675 - val_acc: 0.9826\n"
     ]
    },
    {
     "data": {
      "text/plain": [
       "<keras.callbacks.History at 0x12c3e6790>"
      ]
     },
     "execution_count": 103,
     "metadata": {},
     "output_type": "execute_result"
    }
   ],
   "source": [
    "mdl.fit(X_train, y_train, epochs=1, batch_size=28, validation_data=(X_test, y_test))"
   ]
  },
  {
   "cell_type": "code",
   "execution_count": 105,
   "metadata": {},
   "outputs": [],
   "source": [
    "mdl.optimizer.lr = 0.1"
   ]
  },
  {
   "cell_type": "code",
   "execution_count": 106,
   "metadata": {},
   "outputs": [
    {
     "name": "stdout",
     "output_type": "stream",
     "text": [
      "Train on 8982 samples, validate on 2246 samples\n",
      "Epoch 1/1\n",
      "8982/8982 [==============================] - 41s 5ms/step - loss: 0.0616 - acc: 0.9841 - val_loss: 0.0592 - val_acc: 0.9848\n"
     ]
    },
    {
     "data": {
      "text/plain": [
       "<keras.callbacks.History at 0x12fefb610>"
      ]
     },
     "execution_count": 106,
     "metadata": {},
     "output_type": "execute_result"
    }
   ],
   "source": [
    "mdl.fit(X_train, y_train, epochs=1, batch_size=28, validation_data=(X_test, y_test))"
   ]
  },
  {
   "cell_type": "code",
   "execution_count": 107,
   "metadata": {},
   "outputs": [],
   "source": [
    "mdl.optimizer.lr = 0.01"
   ]
  },
  {
   "cell_type": "code",
   "execution_count": 108,
   "metadata": {},
   "outputs": [
    {
     "name": "stdout",
     "output_type": "stream",
     "text": [
      "Train on 8982 samples, validate on 2246 samples\n",
      "Epoch 1/5\n",
      "8982/8982 [==============================] - 43s 5ms/step - loss: 0.0583 - acc: 0.9846 - val_loss: 0.0581 - val_acc: 0.9848\n",
      "Epoch 2/5\n",
      "8982/8982 [==============================] - 43s 5ms/step - loss: 0.0563 - acc: 0.9847 - val_loss: 0.0559 - val_acc: 0.9848\n",
      "Epoch 3/5\n",
      "8982/8982 [==============================] - 42s 5ms/step - loss: 0.0528 - acc: 0.9867 - val_loss: 0.0523 - val_acc: 0.9875\n",
      "Epoch 4/5\n",
      "8982/8982 [==============================] - 44s 5ms/step - loss: 0.0501 - acc: 0.9878 - val_loss: 0.0524 - val_acc: 0.9870\n",
      "Epoch 5/5\n",
      "8982/8982 [==============================] - 44s 5ms/step - loss: 0.0484 - acc: 0.9883 - val_loss: 0.0505 - val_acc: 0.9878\n"
     ]
    },
    {
     "data": {
      "text/plain": [
       "<keras.callbacks.History at 0x12e191c10>"
      ]
     },
     "execution_count": 108,
     "metadata": {},
     "output_type": "execute_result"
    }
   ],
   "source": [
    "mdl.fit(X_train, y_train, epochs=5, batch_size=28, validation_data=(X_test, y_test))"
   ]
  },
  {
   "cell_type": "code",
   "execution_count": 109,
   "metadata": {},
   "outputs": [
    {
     "name": "stdout",
     "output_type": "stream",
     "text": [
      "Train on 8982 samples, validate on 2246 samples\n",
      "Epoch 1/6\n",
      "8982/8982 [==============================] - 44s 5ms/step - loss: 0.0474 - acc: 0.9885 - val_loss: 0.0507 - val_acc: 0.9878\n",
      "Epoch 2/6\n",
      "8982/8982 [==============================] - 44s 5ms/step - loss: 0.0465 - acc: 0.9888 - val_loss: 0.0509 - val_acc: 0.9876\n",
      "Epoch 3/6\n",
      "8982/8982 [==============================] - 42s 5ms/step - loss: 0.0457 - acc: 0.9889 - val_loss: 0.0503 - val_acc: 0.9878\n",
      "Epoch 4/6\n",
      "8982/8982 [==============================] - 40s 4ms/step - loss: 0.0452 - acc: 0.9890 - val_loss: 0.0512 - val_acc: 0.9877\n",
      "Epoch 5/6\n",
      "8982/8982 [==============================] - 41s 5ms/step - loss: 0.0443 - acc: 0.9892 - val_loss: 0.0511 - val_acc: 0.9877\n",
      "Epoch 6/6\n",
      "8982/8982 [==============================] - 40s 4ms/step - loss: 0.0436 - acc: 0.9892 - val_loss: 0.0502 - val_acc: 0.9877\n"
     ]
    },
    {
     "data": {
      "text/plain": [
       "<keras.callbacks.History at 0x12ff0ec90>"
      ]
     },
     "execution_count": 109,
     "metadata": {},
     "output_type": "execute_result"
    }
   ],
   "source": [
    "mdl.fit(X_train, y_train, epochs=6, batch_size=28, validation_data=(X_test, y_test))"
   ]
  },
  {
   "cell_type": "markdown",
   "metadata": {},
   "source": [
    "# More complicating things\n",
    "\n",
    "trying varying the convolution window size and dropping the LSTM to try to break stagnant training seen in other architectures"
   ]
  },
  {
   "cell_type": "code",
   "execution_count": 78,
   "metadata": {},
   "outputs": [],
   "source": [
    "mdl = Sequential()\n",
    "\n",
    "mdl.add(Embedding(1000, 256, input_length=100))\n",
    "\n",
    "mdl.add(Convolution1D(filters=256, kernel_size=5, padding='valid', activation='relu', strides=1))\n",
    "mdl.add(Convolution1D(filters=256, kernel_size=4, padding='valid', activation='relu', strides=1))\n",
    "mdl.add(Convolution1D(filters=128, kernel_size=3, padding='valid', activation='relu', strides=1))\n",
    "mdl.add(Convolution1D(filters=64, kernel_size=2, padding='valid', activation='relu', strides=1))\n",
    "\n",
    "mdl.add(MaxPooling1D(pool_size=4))\n",
    "mdl.add(Dropout(0.5))\n",
    "\n",
    "mdl.add(Convolution1D(filters=256, kernel_size=5, padding='valid', activation='relu', strides=1))\n",
    "mdl.add(Convolution1D(filters=256, kernel_size=4, padding='valid', activation='relu', strides=1))\n",
    "mdl.add(Convolution1D(filters=128, kernel_size=3, padding='valid', activation='relu', strides=1))\n",
    "mdl.add(Convolution1D(filters=64, kernel_size=2, padding='valid', activation='relu', strides=1))\n",
    "\n",
    "mdl.add(MaxPooling1D(pool_size=4))\n",
    "mdl.add(Dropout(0.5))\n",
    "mdl.add(LSTM(100))\n",
    "\n",
    "mdl.add(Dense(num_classes))\n",
    "mdl.add(Activation('sigmoid'))"
   ]
  },
  {
   "cell_type": "code",
   "execution_count": 79,
   "metadata": {},
   "outputs": [],
   "source": [
    "mdl.compile(loss='binary_crossentropy', optimizer='adam', metrics=['accuracy'])"
   ]
  },
  {
   "cell_type": "markdown",
   "metadata": {},
   "source": [
    "## Training"
   ]
  },
  {
   "cell_type": "code",
   "execution_count": 80,
   "metadata": {},
   "outputs": [
    {
     "name": "stdout",
     "output_type": "stream",
     "text": [
      "Train on 8982 samples, validate on 2246 samples\n",
      "Epoch 1/1\n",
      "8982/8982 [==============================] - 110s 12ms/step - loss: 0.0923 - acc: 0.9750 - val_loss: 0.0575 - val_acc: 0.9846\n"
     ]
    },
    {
     "data": {
      "text/plain": [
       "<keras.callbacks.History at 0x1315c03d0>"
      ]
     },
     "execution_count": 80,
     "metadata": {},
     "output_type": "execute_result"
    }
   ],
   "source": [
    "mdl.fit(X_train, y_train, epochs=1, batch_size=28, validation_data=(X_test, y_test))"
   ]
  },
  {
   "cell_type": "code",
   "execution_count": 81,
   "metadata": {},
   "outputs": [],
   "source": [
    "mdl.optimizer.lr = 0.1"
   ]
  },
  {
   "cell_type": "code",
   "execution_count": 82,
   "metadata": {},
   "outputs": [
    {
     "name": "stdout",
     "output_type": "stream",
     "text": [
      "Train on 8982 samples, validate on 2246 samples\n",
      "Epoch 1/4\n",
      "8982/8982 [==============================] - 151s 17ms/step - loss: 0.0536 - acc: 0.9864 - val_loss: 0.0533 - val_acc: 0.9867\n",
      "Epoch 2/4\n",
      "8982/8982 [==============================] - 147s 16ms/step - loss: 0.0518 - acc: 0.9871 - val_loss: 0.0518 - val_acc: 0.9873\n",
      "Epoch 3/4\n",
      "8982/8982 [==============================] - 192s 21ms/step - loss: 0.0506 - acc: 0.9875 - val_loss: 0.0521 - val_acc: 0.9873\n",
      "Epoch 4/4\n",
      "8982/8982 [==============================] - 150s 17ms/step - loss: 0.0498 - acc: 0.9877 - val_loss: 0.0525 - val_acc: 0.9872\n"
     ]
    },
    {
     "data": {
      "text/plain": [
       "<keras.callbacks.History at 0x12813cfd0>"
      ]
     },
     "execution_count": 82,
     "metadata": {},
     "output_type": "execute_result"
    }
   ],
   "source": [
    "mdl.fit(X_train, y_train, epochs=4, batch_size=28, validation_data=(X_test, y_test))"
   ]
  },
  {
   "cell_type": "code",
   "execution_count": 83,
   "metadata": {},
   "outputs": [],
   "source": [
    "mdl.optimizer.lr = 0.01"
   ]
  },
  {
   "cell_type": "code",
   "execution_count": 84,
   "metadata": {
    "scrolled": true
   },
   "outputs": [
    {
     "name": "stdout",
     "output_type": "stream",
     "text": [
      "Train on 8982 samples, validate on 2246 samples\n",
      "Epoch 1/4\n",
      "8982/8982 [==============================] - 179s 20ms/step - loss: 0.0495 - acc: 0.9877 - val_loss: 0.0519 - val_acc: 0.9871\n",
      "Epoch 2/4\n",
      "8982/8982 [==============================] - 147s 16ms/step - loss: 0.0487 - acc: 0.9879 - val_loss: 0.0524 - val_acc: 0.9871\n",
      "Epoch 3/4\n",
      "8982/8982 [==============================] - 120s 13ms/step - loss: 0.0482 - acc: 0.9879 - val_loss: 0.0519 - val_acc: 0.9872\n",
      "Epoch 4/4\n",
      "8982/8982 [==============================] - 130s 14ms/step - loss: 0.0474 - acc: 0.9881 - val_loss: 0.0515 - val_acc: 0.9874\n"
     ]
    },
    {
     "data": {
      "text/plain": [
       "<keras.callbacks.History at 0x12aac8ed0>"
      ]
     },
     "execution_count": 84,
     "metadata": {},
     "output_type": "execute_result"
    }
   ],
   "source": [
    "mdl.fit(X_train, y_train, epochs=4, batch_size=28, validation_data=(X_test, y_test))"
   ]
  },
  {
   "cell_type": "code",
   "execution_count": 85,
   "metadata": {},
   "outputs": [
    {
     "name": "stdout",
     "output_type": "stream",
     "text": [
      "Train on 8982 samples, validate on 2246 samples\n",
      "Epoch 1/4\n",
      "8982/8982 [==============================] - 111s 12ms/step - loss: 0.0467 - acc: 0.9882 - val_loss: 0.0525 - val_acc: 0.9873\n",
      "Epoch 2/4\n",
      "8982/8982 [==============================] - 110s 12ms/step - loss: 0.0457 - acc: 0.9883 - val_loss: 0.0513 - val_acc: 0.9874\n",
      "Epoch 3/4\n",
      "8982/8982 [==============================] - 125s 14ms/step - loss: 0.0449 - acc: 0.9884 - val_loss: 0.0514 - val_acc: 0.9873\n",
      "Epoch 4/4\n",
      "8982/8982 [==============================] - 134s 15ms/step - loss: 0.0441 - acc: 0.9885 - val_loss: 0.0543 - val_acc: 0.9870\n"
     ]
    },
    {
     "data": {
      "text/plain": [
       "<keras.callbacks.History at 0x131563c10>"
      ]
     },
     "execution_count": 85,
     "metadata": {},
     "output_type": "execute_result"
    }
   ],
   "source": [
    "mdl.fit(X_train, y_train, epochs=4, batch_size=28, validation_data=(X_test, y_test))"
   ]
  },
  {
   "cell_type": "code",
   "execution_count": null,
   "metadata": {},
   "outputs": [],
   "source": []
  }
 ],
 "metadata": {
  "kernelspec": {
   "display_name": "Python 2",
   "language": "python",
   "name": "python2"
  },
  "language_info": {
   "codemirror_mode": {
    "name": "ipython",
    "version": 2
   },
   "file_extension": ".py",
   "mimetype": "text/x-python",
   "name": "python",
   "nbconvert_exporter": "python",
   "pygments_lexer": "ipython2",
   "version": "2.7.13"
  }
 },
 "nbformat": 4,
 "nbformat_minor": 2
}
