{
 "cells": [
  {
   "cell_type": "code",
   "execution_count": 3,
   "metadata": {},
   "outputs": [],
   "source": [
    "from keras.models import Model\n",
    "from keras.layers import Input, LSTM, Dense\n",
    "import numpy as np"
   ]
  },
  {
   "cell_type": "markdown",
   "metadata": {},
   "source": [
    "# Load & prep data"
   ]
  },
  {
   "cell_type": "code",
   "execution_count": 21,
   "metadata": {},
   "outputs": [],
   "source": [
    "path = 'data/eng-fra.txt'\n",
    "input_texts = []\n",
    "target_texts = []\n",
    "input_characters = set()\n",
    "target_characters = set()"
   ]
  },
  {
   "cell_type": "code",
   "execution_count": 22,
   "metadata": {},
   "outputs": [],
   "source": [
    "with open(path, 'r') as f:\n",
    "    lines = f.read().split('\\n')"
   ]
  },
  {
   "cell_type": "code",
   "execution_count": 23,
   "metadata": {},
   "outputs": [],
   "source": [
    "for line in lines[:min(10000, len(lines) - 1)]:\n",
    "    # tab is the start token, new line is the end token\n",
    "    input_text, target_text = line.split('\\t')\n",
    "    input_texts.append(input_text)\n",
    "    \n",
    "    target_text = '\\t' + target_text + '\\n'\n",
    "    target_texts.append(target_text)\n",
    "    \n",
    "    [input_characters.add(char) for char in input_text]\n",
    "    [target_characters.add(char) for char in target_text]"
   ]
  },
  {
   "cell_type": "code",
   "execution_count": 26,
   "metadata": {},
   "outputs": [],
   "source": [
    "input_characters = sorted(list(input_characters))\n",
    "target_characters = sorted(list(target_characters))\n",
    "\n",
    "num_encoder_tokens = len(input_characters)\n",
    "num_decoder_tokens = len(target_characters)\n",
    "\n",
    "max_encoder_seq_len = max([len(text) for text in input_texts])\n",
    "max_decoder_seq_len = max([len(text) for text in target_texts])"
   ]
  },
  {
   "cell_type": "code",
   "execution_count": 28,
   "metadata": {},
   "outputs": [
    {
     "name": "stdout",
     "output_type": "stream",
     "text": [
      "Number of samples: 10000\n",
      "Number of unique input tokens: 73\n",
      "Number of unique output tokens: 90\n",
      "Max sequence length for inputs: 16\n",
      "Max sequence length for outputs: 63\n"
     ]
    }
   ],
   "source": [
    "print('Number of samples: {}'.format(len(input_texts)))\n",
    "print('Number of unique input tokens: {}'.format(num_encoder_tokens))\n",
    "print('Number of unique output tokens: {}'.format(num_decoder_tokens))\n",
    "print('Max sequence length for inputs: {}'.format(max_encoder_seq_len))\n",
    "print('Max sequence length for outputs: {}'.format(max_decoder_seq_len))"
   ]
  },
  {
   "cell_type": "code",
   "execution_count": 29,
   "metadata": {},
   "outputs": [],
   "source": [
    "input_token_index = dict(\n",
    "    [(char, i) for i, char in enumerate(input_characters)])\n",
    "target_token_index = dict(\n",
    "    [(char, i) for i, char in enumerate(target_characters)])"
   ]
  },
  {
   "cell_type": "code",
   "execution_count": 31,
   "metadata": {},
   "outputs": [],
   "source": [
    "encoder_input_data = np.zeros(\n",
    "    (len(input_texts), max_encoder_seq_len, num_encoder_tokens),\n",
    "    dtype='float32')\n",
    "decoder_input_data = np.zeros(\n",
    "    (len(input_texts), max_decoder_seq_len, num_decoder_tokens),\n",
    "    dtype='float32')\n",
    "decoder_target_data = np.zeros(\n",
    "    (len(input_texts), max_decoder_seq_len, num_decoder_tokens),\n",
    "    dtype='float32')"
   ]
  },
  {
   "cell_type": "code",
   "execution_count": 32,
   "metadata": {},
   "outputs": [],
   "source": [
    "for i, (input_text, target_text) in enumerate(zip(input_texts, target_texts)):\n",
    "    for t, char in enumerate(input_text):\n",
    "        encoder_input_data[i, t, input_token_index[char]] = 1.\n",
    "    for t, char in enumerate(target_text):\n",
    "        # decoder_target_data is ahead of decoder_input_data by one timestep\n",
    "        decoder_input_data[i, t, target_token_index[char]] = 1.\n",
    "        if t > 0:\n",
    "            # decoder_target_data will be ahead by one timestep\n",
    "            # and will not include the start character.\n",
    "            decoder_target_data[i, t - 1, target_token_index[char]] = 1."
   ]
  },
  {
   "cell_type": "markdown",
   "metadata": {},
   "source": [
    "# Build model"
   ]
  },
  {
   "cell_type": "code",
   "execution_count": 35,
   "metadata": {},
   "outputs": [],
   "source": [
    "# input sequence\n",
    "encoder_inputs = Input(shape=(None, num_encoder_tokens))\n",
    "encoder = LSTM(256, return_state=True)\n",
    "encoder_outputs, state_h, state_c = encoder(encoder_inputs)\n",
    "\n",
    "encoder_states = [state_h, state_c]"
   ]
  },
  {
   "cell_type": "code",
   "execution_count": 36,
   "metadata": {},
   "outputs": [],
   "source": [
    "# output sequence\n",
    "decoder_inputs = Input(shape=(None, num_decoder_tokens))\n",
    "decoder = LSTM(256, return_sequences=True, return_state=True)\n",
    "decoder_outputs, _, _ = decoder(decoder_inputs, initial_state=encoder_states)\n",
    "\n",
    "decoder_dense = Dense(num_decoder_tokens, activation=\"softmax\")\n",
    "decoder_outputs = decoder_dense(decoder_outputs)"
   ]
  },
  {
   "cell_type": "code",
   "execution_count": 47,
   "metadata": {},
   "outputs": [],
   "source": [
    "# define model\n",
    "mdl = Model([encoder_inputs, decoder_inputs], decoder_outputs)\n",
    "mdl.compile(optimizer='rmsprop', loss='categorical_crossentropy')"
   ]
  },
  {
   "cell_type": "markdown",
   "metadata": {},
   "source": [
    "# Training model"
   ]
  },
  {
   "cell_type": "code",
   "execution_count": 48,
   "metadata": {
    "scrolled": true
   },
   "outputs": [
    {
     "name": "stdout",
     "output_type": "stream",
     "text": [
      "Train on 8000 samples, validate on 2000 samples\n",
      "Epoch 1/1\n",
      "8000/8000 [==============================] - 59s 7ms/step - loss: 0.4656 - val_loss: 0.5792\n"
     ]
    },
    {
     "data": {
      "text/plain": [
       "<keras.callbacks.History at 0x1489ca150>"
      ]
     },
     "execution_count": 48,
     "metadata": {},
     "output_type": "execute_result"
    }
   ],
   "source": [
    "mdl.fit([encoder_input_data, decoder_input_data], decoder_target_data, batch_size=64, epochs=1, validation_split=0.2)"
   ]
  },
  {
   "cell_type": "code",
   "execution_count": 49,
   "metadata": {},
   "outputs": [],
   "source": [
    "mdl.optimizer.lr = 0.1"
   ]
  },
  {
   "cell_type": "code",
   "execution_count": 50,
   "metadata": {},
   "outputs": [
    {
     "name": "stdout",
     "output_type": "stream",
     "text": [
      "Train on 8000 samples, validate on 2000 samples\n",
      "Epoch 1/5\n",
      "8000/8000 [==============================] - 58s 7ms/step - loss: 0.4390 - val_loss: 0.5540\n",
      "Epoch 2/5\n",
      "8000/8000 [==============================] - 61s 8ms/step - loss: 0.4174 - val_loss: 0.5455\n",
      "Epoch 3/5\n",
      "8000/8000 [==============================] - 58s 7ms/step - loss: 0.4000 - val_loss: 0.5293\n",
      "Epoch 4/5\n",
      "8000/8000 [==============================] - 57s 7ms/step - loss: 0.3839 - val_loss: 0.5252\n",
      "Epoch 5/5\n",
      "8000/8000 [==============================] - 57s 7ms/step - loss: 0.3693 - val_loss: 0.5087\n"
     ]
    },
    {
     "data": {
      "text/plain": [
       "<keras.callbacks.History at 0x149ab6750>"
      ]
     },
     "execution_count": 50,
     "metadata": {},
     "output_type": "execute_result"
    }
   ],
   "source": [
    "# run 5 epochs with the increased learning rate\n",
    "mdl.fit([encoder_input_data, decoder_input_data], decoder_target_data, batch_size=64, epochs=5, validation_split=0.2)"
   ]
  },
  {
   "cell_type": "code",
   "execution_count": 51,
   "metadata": {},
   "outputs": [],
   "source": [
    "mdl.optimizer.lr = 0.01"
   ]
  },
  {
   "cell_type": "code",
   "execution_count": 52,
   "metadata": {},
   "outputs": [
    {
     "name": "stdout",
     "output_type": "stream",
     "text": [
      "Train on 8000 samples, validate on 2000 samples\n",
      "Epoch 1/5\n",
      "8000/8000 [==============================] - 59s 7ms/step - loss: 0.3560 - val_loss: 0.4993\n",
      "Epoch 2/5\n",
      "8000/8000 [==============================] - 58s 7ms/step - loss: 0.3434 - val_loss: 0.4902\n",
      "Epoch 3/5\n",
      "8000/8000 [==============================] - 59s 7ms/step - loss: 0.3318 - val_loss: 0.4891\n",
      "Epoch 4/5\n",
      "8000/8000 [==============================] - 58s 7ms/step - loss: 0.3204 - val_loss: 0.4780\n",
      "Epoch 5/5\n",
      "8000/8000 [==============================] - 58s 7ms/step - loss: 0.3098 - val_loss: 0.4770\n"
     ]
    },
    {
     "data": {
      "text/plain": [
       "<keras.callbacks.History at 0x149aa5350>"
      ]
     },
     "execution_count": 52,
     "metadata": {},
     "output_type": "execute_result"
    }
   ],
   "source": [
    "# run another 5 epochs with the decreased learning rate\n",
    "mdl.fit([encoder_input_data, decoder_input_data], decoder_target_data, batch_size=64, epochs=5, validation_split=0.2)"
   ]
  },
  {
   "cell_type": "code",
   "execution_count": 53,
   "metadata": {},
   "outputs": [
    {
     "name": "stdout",
     "output_type": "stream",
     "text": [
      "Train on 8000 samples, validate on 2000 samples\n",
      "Epoch 1/5\n",
      "8000/8000 [==============================] - 57s 7ms/step - loss: 0.2999 - val_loss: 0.4721\n",
      "Epoch 2/5\n",
      "8000/8000 [==============================] - 58s 7ms/step - loss: 0.2903 - val_loss: 0.4746\n",
      "Epoch 3/5\n",
      "8000/8000 [==============================] - 58s 7ms/step - loss: 0.2809 - val_loss: 0.4668\n",
      "Epoch 4/5\n",
      "8000/8000 [==============================] - 58s 7ms/step - loss: 0.2725 - val_loss: 0.4672\n",
      "Epoch 5/5\n",
      "8000/8000 [==============================] - 58s 7ms/step - loss: 0.2640 - val_loss: 0.4648\n"
     ]
    },
    {
     "data": {
      "text/plain": [
       "<keras.callbacks.History at 0x1489ca090>"
      ]
     },
     "execution_count": 53,
     "metadata": {},
     "output_type": "execute_result"
    }
   ],
   "source": [
    "mdl.fit([encoder_input_data, decoder_input_data], decoder_target_data, batch_size=64, epochs=5, validation_split=0.2)"
   ]
  },
  {
   "cell_type": "markdown",
   "metadata": {},
   "source": [
    "# Inference"
   ]
  },
  {
   "cell_type": "code",
   "execution_count": 54,
   "metadata": {},
   "outputs": [],
   "source": [
    "encoder_mdl = Model(encoder_inputs, encoder_states)"
   ]
  },
  {
   "cell_type": "code",
   "execution_count": 55,
   "metadata": {},
   "outputs": [],
   "source": [
    "decoder_state_input_h = Input(shape=(256,))\n",
    "decoder_state_input_c = Input(shape=(256,))\n",
    "decoder_states_inputs = [decoder_state_input_h, decoder_state_input_c]\n",
    "\n",
    "decoder_outputs, state_h, state_c = decoder(decoder_inputs, initial_state=decoder_states_inputs)\n",
    "\n",
    "decoder_states = [state_h, state_c]\n",
    "decoder_outputs = decoder_dense(decoder_outputs)\n",
    "\n",
    "decoder_mdl = Model([decoder_inputs] + decoder_states_inputs, [decoder_outputs] + decoder_states)"
   ]
  },
  {
   "cell_type": "code",
   "execution_count": 63,
   "metadata": {},
   "outputs": [],
   "source": [
    "# decode sequences back to characters\n",
    "reverse_input_char_index = dict((i, char) for char, i in input_token_index.items())\n",
    "reverse_target_char_index = dict((i, char) for char, i in target_token_index.items())\n",
    "\n",
    "def decode_sequence(input_seq):\n",
    "    # encode input as state vectors.\n",
    "    states_value = encoder_mdl.predict(input_seq)\n",
    "\n",
    "    # generate empty target sequence & prepend with start token\n",
    "    target_seq = np.zeros((1, 1, num_decoder_tokens))\n",
    "    target_seq[0, 0, target_token_index['\\t']] = 1.\n",
    "\n",
    "    stop = False\n",
    "    decoded_sentence = ''\n",
    "    while not stop:\n",
    "        output_tokens, h, c = decoder_mdl.predict(\n",
    "            [target_seq] + states_value)\n",
    "\n",
    "        # sample token\n",
    "        sampled_token_index = np.argmax(output_tokens[0, -1, :])\n",
    "        sampled_char = reverse_target_char_index[sampled_token_index]\n",
    "        decoded_sentence += sampled_char\n",
    "\n",
    "        # if max length or stop character, stop\n",
    "        if sampled_char == '\\n' or len(decoded_sentence) > max_decoder_seq_len:\n",
    "            stop = True\n",
    "\n",
    "        # update target sequence (of length 1).\n",
    "        target_seq = np.zeros((1, 1, num_decoder_tokens))\n",
    "        target_seq[0, 0, sampled_token_index] = 1.\n",
    "\n",
    "        # update states\n",
    "        states_value = [h, c]\n",
    "\n",
    "    return decoded_sentence"
   ]
  },
  {
   "cell_type": "code",
   "execution_count": 64,
   "metadata": {
    "scrolled": false
   },
   "outputs": [
    {
     "name": "stdout",
     "output_type": "stream",
     "text": [
      "---------------------\n",
      "Input: Go.\n",
      "Decoded: Allez !\n",
      "\n",
      "---------------------\n",
      "Input: Run!\n",
      "Decoded: Rette de somber !\n",
      "\n",
      "---------------------\n",
      "Input: Run!\n",
      "Decoded: Rette de somber !\n",
      "\n",
      "---------------------\n",
      "Input: Wow!\n",
      "Decoded: Fais-le demander !\n",
      "\n",
      "---------------------\n",
      "Input: Fire!\n",
      "Decoded: Reste partir !\n",
      "\n",
      "---------------------\n",
      "Input: Help!\n",
      "Decoded: Rettez !\n",
      "\n",
      "---------------------\n",
      "Input: Jump.\n",
      "Decoded: Va te parder !\n",
      "\n",
      "---------------------\n",
      "Input: Stop!\n",
      "Decoded: Arrête de trainer !\n",
      "\n",
      "---------------------\n",
      "Input: Stop!\n",
      "Decoded: Arrête de trainer !\n",
      "\n",
      "---------------------\n",
      "Input: Stop!\n",
      "Decoded: Arrête de trainer !\n",
      "\n",
      "---------------------\n",
      "Input: Wait!\n",
      "Decoded: Reste pas tomber !\n",
      "\n",
      "---------------------\n",
      "Input: Wait!\n",
      "Decoded: Reste pas tomber !\n",
      "\n",
      "---------------------\n",
      "Input: I see.\n",
      "Decoded: Je l'ai vue.\n",
      "\n",
      "---------------------\n",
      "Input: I try.\n",
      "Decoded: Je l'ai contré.\n",
      "\n",
      "---------------------\n",
      "Input: I won!\n",
      "Decoded: Je l'ai contrarié.\n",
      "\n",
      "---------------------\n",
      "Input: I won!\n",
      "Decoded: Je l'ai contrarié.\n",
      "\n",
      "---------------------\n",
      "Input: Oh no!\n",
      "Decoded: Tout le voir !\n",
      "\n",
      "---------------------\n",
      "Input: Attack!\n",
      "Decoded: Attends une seule !\n",
      "\n",
      "---------------------\n",
      "Input: Attack!\n",
      "Decoded: Attends une seule !\n",
      "\n",
      "---------------------\n",
      "Input: Cheers!\n",
      "Decoded: Dis sont aurentent.\n",
      "\n",
      "---------------------\n",
      "Input: Cheers!\n",
      "Decoded: Dis sont aurentent.\n",
      "\n",
      "---------------------\n",
      "Input: Cheers!\n",
      "Decoded: Dis sont aurentent.\n",
      "\n",
      "---------------------\n",
      "Input: Get up.\n",
      "Decoded: Arrête de trainer !\n",
      "\n",
      "---------------------\n",
      "Input: Got it!\n",
      "Decoded: Arrête de travarler !\n",
      "\n",
      "---------------------\n",
      "Input: Got it!\n",
      "Decoded: Arrête de travarler !\n",
      "\n",
      "---------------------\n",
      "Input: Got it?\n",
      "Decoded: Va tu chanter !\n",
      "\n",
      "---------------------\n",
      "Input: Got it?\n",
      "Decoded: Va tu chanter !\n",
      "\n",
      "---------------------\n",
      "Input: Got it?\n",
      "Decoded: Va tu chanter !\n",
      "\n",
      "---------------------\n",
      "Input: Hop in.\n",
      "Decoded: Arrête de traider.\n",
      "\n",
      "---------------------\n",
      "Input: Hop in.\n",
      "Decoded: Arrête de traider.\n",
      "\n",
      "---------------------\n",
      "Input: Hug me.\n",
      "Decoded: Fiens tomber !\n",
      "\n",
      "---------------------\n",
      "Input: Hug me.\n",
      "Decoded: Fiens tomber !\n",
      "\n",
      "---------------------\n",
      "Input: I fell.\n",
      "Decoded: Je me sens prête.\n",
      "\n",
      "---------------------\n",
      "Input: I fell.\n",
      "Decoded: Je me sens prête.\n",
      "\n",
      "---------------------\n",
      "Input: I know.\n",
      "Decoded: Je me suis sentie seule.\n",
      "\n",
      "---------------------\n",
      "Input: I left.\n",
      "Decoded: Je l'ai contrarié.\n",
      "\n",
      "---------------------\n",
      "Input: I left.\n",
      "Decoded: Je l'ai contrarié.\n",
      "\n",
      "---------------------\n",
      "Input: I lost.\n",
      "Decoded: J'aime les chanses.\n",
      "\n",
      "---------------------\n",
      "Input: I'm 19.\n",
      "Decoded: Je suis trop trand.\n",
      "\n",
      "---------------------\n",
      "Input: I'm OK.\n",
      "Decoded: Je suis trop trand.\n",
      "\n",
      "---------------------\n",
      "Input: I'm OK.\n",
      "Decoded: Je suis trop trand.\n",
      "\n",
      "---------------------\n",
      "Input: Listen.\n",
      "Decoded: Restez allont !\n",
      "\n",
      "---------------------\n",
      "Input: No way!\n",
      "Decoded: Laisse-moi tortir.\n",
      "\n",
      "---------------------\n",
      "Input: No way!\n",
      "Decoded: Laisse-moi tortir.\n",
      "\n",
      "---------------------\n",
      "Input: No way!\n",
      "Decoded: Laisse-moi tortir.\n",
      "\n",
      "---------------------\n",
      "Input: No way!\n",
      "Decoded: Laisse-moi tortir.\n",
      "\n",
      "---------------------\n",
      "Input: No way!\n",
      "Decoded: Laisse-moi tortir.\n",
      "\n",
      "---------------------\n",
      "Input: No way!\n",
      "Decoded: Laisse-moi tortir.\n",
      "\n",
      "---------------------\n",
      "Input: No way!\n",
      "Decoded: Laisse-moi tortir.\n",
      "\n",
      "---------------------\n",
      "Input: Really?\n",
      "Decoded: Sais-tu partir ?\n",
      "\n",
      "---------------------\n",
      "Input: Really?\n",
      "Decoded: Sais-tu partir ?\n",
      "\n",
      "---------------------\n",
      "Input: Really?\n",
      "Decoded: Sais-tu partir ?\n",
      "\n",
      "---------------------\n",
      "Input: Thanks.\n",
      "Decoded: Le temps chantent.\n",
      "\n",
      "---------------------\n",
      "Input: We try.\n",
      "Decoded: Nous sommes toutes des alles.\n",
      "\n",
      "---------------------\n",
      "Input: We won.\n",
      "Decoded: Nous avons tout à l'entager.\n",
      "\n",
      "---------------------\n",
      "Input: We won.\n",
      "Decoded: Nous avons tout à l'entager.\n",
      "\n",
      "---------------------\n",
      "Input: We won.\n",
      "Decoded: Nous avons tout à l'entager.\n",
      "\n",
      "---------------------\n",
      "Input: We won.\n",
      "Decoded: Nous avons tout à l'entager.\n",
      "\n",
      "---------------------\n",
      "Input: Ask Tom.\n",
      "Decoded: Dis dis ent maiste.\n",
      "\n",
      "---------------------\n",
      "Input: Awesome!\n",
      "Decoded: Demandez-vous !\n",
      "\n",
      "---------------------\n",
      "Input: Be calm.\n",
      "Decoded: Sois confiante !\n",
      "\n",
      "---------------------\n",
      "Input: Be calm.\n",
      "Decoded: Sois confiante !\n",
      "\n",
      "---------------------\n",
      "Input: Be calm.\n",
      "Decoded: Sois confiante !\n",
      "\n",
      "---------------------\n",
      "Input: Be cool.\n",
      "Decoded: Soyez confiante !\n",
      "\n",
      "---------------------\n",
      "Input: Be fair.\n",
      "Decoded: Sois confiante !\n",
      "\n",
      "---------------------\n",
      "Input: Be fair.\n",
      "Decoded: Sois confiante !\n",
      "\n",
      "---------------------\n",
      "Input: Be fair.\n",
      "Decoded: Sois confiante !\n",
      "\n",
      "---------------------\n",
      "Input: Be fair.\n",
      "Decoded: Sois confiante !\n",
      "\n",
      "---------------------\n",
      "Input: Be fair.\n",
      "Decoded: Sois confiante !\n",
      "\n",
      "---------------------\n",
      "Input: Be fair.\n",
      "Decoded: Sois confiante !\n",
      "\n",
      "---------------------\n",
      "Input: Be kind.\n",
      "Decoded: Sois sentie !\n",
      "\n",
      "---------------------\n",
      "Input: Be nice.\n",
      "Decoded: Sois gentil !\n",
      "\n",
      "---------------------\n",
      "Input: Be nice.\n",
      "Decoded: Sois gentil !\n",
      "\n",
      "---------------------\n",
      "Input: Be nice.\n",
      "Decoded: Sois gentil !\n",
      "\n",
      "---------------------\n",
      "Input: Be nice.\n",
      "Decoded: Sois gentil !\n",
      "\n",
      "---------------------\n",
      "Input: Be nice.\n",
      "Decoded: Sois gentil !\n",
      "\n",
      "---------------------\n",
      "Input: Be nice.\n",
      "Decoded: Sois gentil !\n",
      "\n",
      "---------------------\n",
      "Input: Beat it.\n",
      "Decoded: Allez !\n",
      "\n",
      "---------------------\n",
      "Input: Call me.\n",
      "Decoded: Appellez-les !\n",
      "\n",
      "---------------------\n",
      "Input: Call me.\n",
      "Decoded: Appellez-les !\n",
      "\n",
      "---------------------\n",
      "Input: Call us.\n",
      "Decoded: Appellez-les !\n",
      "\n",
      "---------------------\n",
      "Input: Call us.\n",
      "Decoded: Appellez-les !\n",
      "\n",
      "---------------------\n",
      "Input: Come in.\n",
      "Decoded: Va te parder !\n",
      "\n",
      "---------------------\n",
      "Input: Come in.\n",
      "Decoded: Va te parder !\n",
      "\n",
      "---------------------\n",
      "Input: Come in.\n",
      "Decoded: Va te parder !\n",
      "\n",
      "---------------------\n",
      "Input: Come in.\n",
      "Decoded: Va te parder !\n",
      "\n",
      "---------------------\n",
      "Input: Come on!\n",
      "Decoded: Viens vite !\n",
      "\n",
      "---------------------\n",
      "Input: Come on.\n",
      "Decoded: Viens vite !\n",
      "\n",
      "---------------------\n",
      "Input: Come on.\n",
      "Decoded: Viens vite !\n",
      "\n",
      "---------------------\n",
      "Input: Come on.\n",
      "Decoded: Viens vite !\n",
      "\n",
      "---------------------\n",
      "Input: Drop it!\n",
      "Decoded: Regardez-le !\n",
      "\n",
      "---------------------\n",
      "Input: Drop it!\n",
      "Decoded: Regardez-le !\n",
      "\n",
      "---------------------\n",
      "Input: Drop it!\n",
      "Decoded: Regardez-le !\n",
      "\n",
      "---------------------\n",
      "Input: Drop it!\n",
      "Decoded: Regardez-le !\n",
      "\n",
      "---------------------\n",
      "Input: Get out!\n",
      "Decoded: Arrête de trainer !\n",
      "\n",
      "---------------------\n",
      "Input: Get out!\n",
      "Decoded: Arrête de trainer !\n",
      "\n",
      "---------------------\n",
      "Input: Get out!\n",
      "Decoded: Arrête de trainer !\n",
      "\n",
      "---------------------\n",
      "Input: Get out.\n",
      "Decoded: Arrête de traider.\n",
      "\n",
      "---------------------\n",
      "Input: Get out.\n",
      "Decoded: Arrête de traider.\n",
      "\n",
      "---------------------\n",
      "Input: Go away!\n",
      "Decoded: Allez !\n",
      "\n"
     ]
    }
   ],
   "source": [
    "for seq_idx in range(100):\n",
    "    input_seq = encoder_input_data[seq_idx:seq_idx+1]\n",
    "    decoded_sentence = decode_sequence(input_seq)\n",
    "    \n",
    "    print(\"---------------------\")\n",
    "    print(\"Input: {}\".format(input_texts[seq_idx]))\n",
    "    print(\"Decoded: {}\".format(decoded_sentence))"
   ]
  },
  {
   "cell_type": "code",
   "execution_count": null,
   "metadata": {},
   "outputs": [],
   "source": []
  }
 ],
 "metadata": {
  "kernelspec": {
   "display_name": "Python 2",
   "language": "python",
   "name": "python2"
  },
  "language_info": {
   "codemirror_mode": {
    "name": "ipython",
    "version": 2
   },
   "file_extension": ".py",
   "mimetype": "text/x-python",
   "name": "python",
   "nbconvert_exporter": "python",
   "pygments_lexer": "ipython2",
   "version": "2.7.13"
  }
 },
 "nbformat": 4,
 "nbformat_minor": 2
}
