{
 "cells": [
  {
   "cell_type": "markdown",
   "metadata": {},
   "source": [
    "Benchmark and best models from previous attempt\n",
    "\n",
    "- **Benchmark: 0.24591**\n",
    "- Model 1: 0.29984\n",
    "- Model 2: 0.33682\n",
    "- Model 3: 0.26506"
   ]
  },
  {
   "cell_type": "code",
   "execution_count": 1,
   "metadata": {},
   "outputs": [
    {
     "name": "stderr",
     "output_type": "stream",
     "text": [
      "Using TensorFlow backend.\n"
     ]
    }
   ],
   "source": [
    "from keras.preprocessing import sequence\n",
    "from keras.layers import LSTM, Convolution1D, Flatten, Dropout, Dense, MaxPooling1D\n",
    "from keras.layers.embeddings import Embedding\n",
    "from keras.models import Sequential\n",
    "\n",
    "from keras.datasets import imdb"
   ]
  },
  {
   "cell_type": "markdown",
   "metadata": {},
   "source": [
    "# Load & prep dataset"
   ]
  },
  {
   "cell_type": "code",
   "execution_count": 2,
   "metadata": {},
   "outputs": [],
   "source": [
    "top_words = 1000\n",
    "(X_train, y_train), (X_test, y_test) = imdb.load_data(num_words=top_words)"
   ]
  },
  {
   "cell_type": "code",
   "execution_count": 3,
   "metadata": {},
   "outputs": [],
   "source": [
    "max_review_len = 1600\n",
    "embedding_vector_len = 300"
   ]
  },
  {
   "cell_type": "code",
   "execution_count": 4,
   "metadata": {},
   "outputs": [],
   "source": [
    "X_train = sequence.pad_sequences(X_train, maxlen=max_review_len)\n",
    "X_test = sequence.pad_sequences(X_test, maxlen=max_review_len)"
   ]
  },
  {
   "cell_type": "markdown",
   "metadata": {},
   "source": [
    "# Build model"
   ]
  },
  {
   "cell_type": "code",
   "execution_count": 5,
   "metadata": {},
   "outputs": [],
   "source": [
    "mdl = Sequential()\n",
    "mdl.add(Embedding(top_words, embedding_vector_len, input_length=max_review_len))\n",
    "mdl.add(Dropout(0.3))\n",
    "\n",
    "mdl.add(Convolution1D(256, 3, padding='same', activation='relu'))\n",
    "mdl.add(MaxPooling1D(pool_size=2))\n",
    "\n",
    "mdl.add(Convolution1D(256, 4, padding='same', activation='relu'))\n",
    "mdl.add(MaxPooling1D(pool_size=2))\n",
    "\n",
    "mdl.add(Convolution1D(128, 5, padding='same', activation='relu'))\n",
    "mdl.add(MaxPooling1D(pool_size=2))\n",
    "\n",
    "mdl.add(Convolution1D(128, 6, padding='same', activation='relu'))\n",
    "mdl.add(MaxPooling1D(pool_size=2))\n",
    "mdl.add(Flatten())\n",
    "\n",
    "mdl.add(Dropout(0.3))\n",
    "mdl.add(Dense(256, activation='relu'))\n",
    "mdl.add(Dropout(0.3))\n",
    "mdl.add(Dense(1, activation='sigmoid'))\n",
    "mdl.compile(loss=\"binary_crossentropy\", optimizer=\"adam\", metrics=['accuracy'])"
   ]
  },
  {
   "cell_type": "markdown",
   "metadata": {},
   "source": [
    "# Training"
   ]
  },
  {
   "cell_type": "code",
   "execution_count": 6,
   "metadata": {},
   "outputs": [
    {
     "name": "stdout",
     "output_type": "stream",
     "text": [
      "Train on 25000 samples, validate on 25000 samples\n",
      "Epoch 1/1\n",
      "25000/25000 [==============================] - 2935s 117ms/step - loss: 0.4933 - acc: 0.7197 - val_loss: 0.3985 - val_acc: 0.8152\n"
     ]
    },
    {
     "data": {
      "text/plain": [
       "<keras.callbacks.History at 0x1044113d0>"
      ]
     },
     "execution_count": 6,
     "metadata": {},
     "output_type": "execute_result"
    }
   ],
   "source": [
    "mdl.fit(X_train, y_train, epochs=1, validation_data=(X_test, y_test), batch_size=64)"
   ]
  },
  {
   "cell_type": "code",
   "execution_count": 7,
   "metadata": {},
   "outputs": [],
   "source": [
    "mdl.optimizer.lr = 0.1"
   ]
  },
  {
   "cell_type": "code",
   "execution_count": 8,
   "metadata": {},
   "outputs": [
    {
     "name": "stdout",
     "output_type": "stream",
     "text": [
      "Train on 25000 samples, validate on 25000 samples\n",
      "Epoch 1/4\n",
      "25000/25000 [==============================] - 2910s 116ms/step - loss: 0.3004 - acc: 0.8762 - val_loss: 0.3217 - val_acc: 0.8626\n",
      "Epoch 2/4\n",
      "25000/25000 [==============================] - 2892s 116ms/step - loss: 0.2581 - acc: 0.8963 - val_loss: 0.3138 - val_acc: 0.8652\n",
      "Epoch 3/4\n",
      "25000/25000 [==============================] - 2937s 117ms/step - loss: 0.2343 - acc: 0.9070 - val_loss: 0.2805 - val_acc: 0.8860\n",
      "Epoch 4/4\n",
      "25000/25000 [==============================] - 3138s 126ms/step - loss: 0.2124 - acc: 0.9146 - val_loss: 0.3148 - val_acc: 0.8717\n"
     ]
    },
    {
     "data": {
      "text/plain": [
       "<keras.callbacks.History at 0x115bd9450>"
      ]
     },
     "execution_count": 8,
     "metadata": {},
     "output_type": "execute_result"
    }
   ],
   "source": [
    "mdl.fit(X_train, y_train, epochs=4, validation_data=(X_test, y_test), batch_size=64)"
   ]
  },
  {
   "cell_type": "code",
   "execution_count": 9,
   "metadata": {},
   "outputs": [],
   "source": [
    "mdl.optimizer.lr = 0.01"
   ]
  },
  {
   "cell_type": "code",
   "execution_count": 10,
   "metadata": {},
   "outputs": [
    {
     "name": "stdout",
     "output_type": "stream",
     "text": [
      "Train on 25000 samples, validate on 25000 samples\n",
      "Epoch 1/2\n",
      "25000/25000 [==============================] - 2943s 118ms/step - loss: 0.1847 - acc: 0.9296 - val_loss: 0.3069 - val_acc: 0.8705\n",
      "Epoch 2/2\n",
      "25000/25000 [==============================] - 2894s 116ms/step - loss: 0.1592 - acc: 0.9379 - val_loss: 0.3276 - val_acc: 0.8832\n"
     ]
    },
    {
     "data": {
      "text/plain": [
       "<keras.callbacks.History at 0x114e50c50>"
      ]
     },
     "execution_count": 10,
     "metadata": {},
     "output_type": "execute_result"
    }
   ],
   "source": [
    "mdl.fit(X_train, y_train, epochs=2, validation_data=(X_test, y_test), batch_size=64)"
   ]
  },
  {
   "cell_type": "code",
   "execution_count": null,
   "metadata": {},
   "outputs": [],
   "source": []
  }
 ],
 "metadata": {
  "kernelspec": {
   "display_name": "Python 2",
   "language": "python",
   "name": "python2"
  },
  "language_info": {
   "codemirror_mode": {
    "name": "ipython",
    "version": 2
   },
   "file_extension": ".py",
   "mimetype": "text/x-python",
   "name": "python",
   "nbconvert_exporter": "python",
   "pygments_lexer": "ipython2",
   "version": "2.7.13"
  }
 },
 "nbformat": 4,
 "nbformat_minor": 2
}
