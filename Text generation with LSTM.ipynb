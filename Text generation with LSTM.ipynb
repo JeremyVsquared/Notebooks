{
 "cells": [
  {
   "cell_type": "code",
   "execution_count": 1,
   "metadata": {},
   "outputs": [
    {
     "name": "stderr",
     "output_type": "stream",
     "text": [
      "Using TensorFlow backend.\n"
     ]
    }
   ],
   "source": [
    "from __future__ import print_function\n",
    "from keras.callbacks import LambdaCallback\n",
    "from keras.models import Sequential\n",
    "from keras.layers import Dense, Activation\n",
    "from keras.layers import LSTM\n",
    "from keras.optimizers import RMSprop\n",
    "from keras.utils.data_utils import get_file\n",
    "import numpy as np\n",
    "import random, sys, io"
   ]
  },
  {
   "cell_type": "markdown",
   "metadata": {},
   "source": [
    "# Load & Prep data"
   ]
  },
  {
   "cell_type": "code",
   "execution_count": 2,
   "metadata": {
    "scrolled": true
   },
   "outputs": [
    {
     "name": "stdout",
     "output_type": "stream",
     "text": [
      "corpus length: 776702\n",
      "total chars: 62\n",
      "nb sequences: 258888\n"
     ]
    }
   ],
   "source": [
    "path = 'data/tale_of_two_cities.txt'\n",
    "with io.open(path, encoding='utf-8') as f:\n",
    "    text = f.read().lower()\n",
    "print('corpus length:', len(text))\n",
    "\n",
    "chars = sorted(list(set(text)))\n",
    "print('total chars:', len(chars))\n",
    "char_indices = dict((c, i) for i, c in enumerate(chars))\n",
    "indices_char = dict((i, c) for i, c in enumerate(chars))\n",
    "\n",
    "# cut the text in semi-redundant sequences of maxlen characters\n",
    "maxlen = 40\n",
    "step = 3\n",
    "sentences = []\n",
    "next_chars = []\n",
    "for i in range(0, len(text) - maxlen, step):\n",
    "    sentences.append(text[i: i + maxlen])\n",
    "    next_chars.append(text[i + maxlen])\n",
    "print('nb sequences:', len(sentences))"
   ]
  },
  {
   "cell_type": "code",
   "execution_count": 3,
   "metadata": {},
   "outputs": [],
   "source": [
    "X = np.zeros((len(sentences), maxlen, len(chars)), dtype=np.bool)\n",
    "y = np.zeros((len(sentences), len(chars)), dtype=np.bool)\n",
    "for i, sentence in enumerate(sentences):\n",
    "    for t, char in enumerate(sentence):\n",
    "        X[i, t, char_indices[char]] = 1\n",
    "    y[i, char_indices[next_chars[i]]] = 1"
   ]
  },
  {
   "cell_type": "markdown",
   "metadata": {},
   "source": [
    "# Build model"
   ]
  },
  {
   "cell_type": "code",
   "execution_count": 4,
   "metadata": {},
   "outputs": [],
   "source": [
    "model = Sequential()\n",
    "model.add(LSTM(256, return_sequences=True, input_shape=(maxlen, len(chars))))\n",
    "model.add(LSTM(256, return_sequences=True))\n",
    "model.add(LSTM(256))\n",
    "model.add(Dense(len(chars)))\n",
    "model.add(Activation('softmax'))\n",
    "\n",
    "optimizer = RMSprop(lr=0.01)\n",
    "model.compile(loss='categorical_crossentropy', optimizer=optimizer)"
   ]
  },
  {
   "cell_type": "code",
   "execution_count": 5,
   "metadata": {
    "collapsed": true
   },
   "outputs": [],
   "source": [
    "def sample(preds, temperature=1.0):\n",
    "    # helper function to sample an index from a probability array\n",
    "    preds = np.asarray(preds).astype('float64')\n",
    "    preds = np.log(preds) / temperature\n",
    "    exp_preds = np.exp(preds)\n",
    "    preds = exp_preds / np.sum(exp_preds)\n",
    "    probas = np.random.multinomial(1, preds, 1)\n",
    "    return np.argmax(probas)"
   ]
  },
  {
   "cell_type": "code",
   "execution_count": 6,
   "metadata": {
    "collapsed": true
   },
   "outputs": [],
   "source": [
    "def on_epoch_end(epoch, logs):\n",
    "    # Function invoked at end of each epoch. Prints generated text.\n",
    "    print()\n",
    "    print('----- Generating text after Epoch: %d' % epoch)\n",
    "\n",
    "    start_index = random.randint(0, len(text) - maxlen - 1)\n",
    "    for diversity in [0.2, 0.5, 1.0, 1.2]:\n",
    "        print('----- diversity:', diversity)\n",
    "\n",
    "        generated = ''\n",
    "        sentence = text[start_index: start_index + maxlen]\n",
    "        generated += sentence\n",
    "        print('----- Generating with seed: \"' + sentence + '\"')\n",
    "        sys.stdout.write(generated)\n",
    "\n",
    "        for i in range(400):\n",
    "            x_pred = np.zeros((1, maxlen, len(chars)))\n",
    "            for t, char in enumerate(sentence):\n",
    "                x_pred[0, t, char_indices[char]] = 1.\n",
    "\n",
    "            preds = model.predict(x_pred, verbose=0)[0]\n",
    "            next_index = sample(preds, diversity)\n",
    "            next_char = indices_char[next_index]\n",
    "\n",
    "            generated += next_char\n",
    "            sentence = sentence[1:] + next_char\n",
    "\n",
    "            sys.stdout.write(next_char)\n",
    "            sys.stdout.flush()\n",
    "        print()"
   ]
  },
  {
   "cell_type": "code",
   "execution_count": 7,
   "metadata": {
    "collapsed": true
   },
   "outputs": [],
   "source": [
    "print_callback = LambdaCallback(on_epoch_end=on_epoch_end)"
   ]
  },
  {
   "cell_type": "markdown",
   "metadata": {},
   "source": [
    "# Train model"
   ]
  },
  {
   "cell_type": "code",
   "execution_count": 8,
   "metadata": {},
   "outputs": [
    {
     "name": "stdout",
     "output_type": "stream",
     "text": [
      "Epoch 1/1\n",
      "258816/258888 [============================>.] - ETA: 0s - loss: 3.1981\n",
      "----- Generating text after Epoch: 0\n",
      "----- diversity: 0.2\n",
      "----- Generating with seed: \"the safest way of life, involving the le\"\n",
      "the safest way of life, involving the lenni nnn nnnini innnnnnn nnn nnn i nnnnnnninnnnnnnin nn  nnnnnnnnnininn nnnninnnnnnnn nnnnnnnnnnninnnnnnnnnninnnn  innnn nn nnnnnnnnnnnn nn ninnn  ninnnnninnnn nninn ninnnnnninnnnnnnnni nninn nn nnnnnnnnnninnnninnnninninin nnnnnn nn nnnnnnnnnnnnnnn  n nnninnni nnnnnn innnnnnnnnninnnninn nnnnnnnnin ninnnnnin innnnnnnnnni n nnn i,innninn innnnnnnnnni nnnnnninninnnii nn ninnnnni nnnnnnnnnnnnnnnnnnnnn \n",
      "----- diversity: 0.5\n",
      "----- Generating with seed: \"the safest way of life, involving the le\"\n",
      "the safest way of life, involving the le\n",
      "n,niinnnnn onnnnnii,ihninnynlynieni,ni n ,in i nntninunii h,,i,n ncinc i nnndonini cnnnnnnen\n",
      "tnn iinnyrns yminni nnnynn nsn in ih ,,innnn nnin ia nnn,nn nnnnii nnn nni i,hawni,,i.nnnninnnoh   i  i s n ihh o,ahn ei nes n in hn yih  oin s t  nnnirn n m-i,n\n",
      "ri iiiiniti n ninion nnn n ,ennylinns nn  inn inn\n",
      "- iinnn nn  i oi\n",
      "innnnin n,,n,i nnr,inni     sai dn ntriinnlin iii inin,nnninnunn,n uinonii  ,\n",
      "----- diversity: 1.0\n",
      "----- Generating with seed: \"the safest way of life, involving the le\"\n",
      "the safest way of life, involving the lei\n",
      " y, tnnionrcb niiionry,”,l h hneai on\n",
      "nnannmk,,ukhe ny nnndiooons,ninfobibtkw noie,,ble,inno,tgvnn \n",
      "linh nhannic,waesiy  neim“yl hhsnn yhnn ,ee“iiyui n\n",
      "enrthn do hin  w n,hing\n",
      "r,\n",
      "d,,thn nnohi bnntisaeinaynit tbrntntn,iivhnnfu inn  ni, iinmli nhuhen,rwniii.hndtrurw,nfnr tdtji i,r h nnnhnsnb  mm,,bn eioonvnin nbnhi gn  \n",
      "y:nnarnrnhnlnn,sodn,n apomntin\n",
      "yan,lmolin\n",
      "h  lnai ld,iheh,yteituw  “omsno,m ie\n",
      "----- diversity: 1.2\n",
      "----- Generating with seed: \"the safest way of life, involving the le\"\n",
      "the safest way of life, involving the le iar-cnw losnucani’ic,i, rod nr  to asil a iou enu oasnre ,i ugfnaiw sesb-in\n",
      ".tprich \n",
      "\n",
      "f\n",
      "n l.enutdsini uha tl\n",
      " nont “sehcira.kli nh\n",
      "ldidwhn\n",
      "n,eiea’r,;ratranhynu moydsnyotfmas,eoenc.odrpfnnuynyhh\n",
      ",nnjihne,eii\n",
      "iyt \n",
      "iyh, i,r\n",
      "  nh hni noyibm, \n",
      "amno h.tl nnhkni - isciscmsissifirni omrynirao  i.d tciv.isfeeotnfo“ta-ni ninaldnsl,yh,eem inie\n",
      "nn\n",
      "“llhmnr falit,nlsa\n",
      "e db\n",
      "sni sbhon,tddbnlo,; ndhtnrnno nbrr\n",
      "gn\n",
      "258888/258888 [==============================] - 2695s 10ms/step - loss: 3.1981\n"
     ]
    },
    {
     "data": {
      "text/plain": [
       "<keras.callbacks.History at 0x11b77dc50>"
      ]
     },
     "execution_count": 8,
     "metadata": {},
     "output_type": "execute_result"
    }
   ],
   "source": [
    "model.fit(X, y, batch_size=128, epochs=1, callbacks=[print_callback])"
   ]
  },
  {
   "cell_type": "code",
   "execution_count": 9,
   "metadata": {
    "scrolled": false
   },
   "outputs": [
    {
     "name": "stdout",
     "output_type": "stream",
     "text": [
      "Epoch 1/4\n",
      "258816/258888 [============================>.] - ETA: 0s - loss: 3.1979\n",
      "----- Generating text after Epoch: 0\n",
      "----- diversity: 0.2\n",
      "----- Generating with seed: \"d took up her knitting. the\n",
      "visitor watc\"\n",
      "d took up her knitting. the\n",
      "visitor watc     "
     ]
    },
    {
     "name": "stderr",
     "output_type": "stream",
     "text": [
      "/Users/jeremyvanvalkenburg/anaconda/lib/python2.7/site-packages/ipykernel_launcher.py:4: RuntimeWarning: divide by zero encountered in log\n",
      "  after removing the cwd from sys.path.\n"
     ]
    },
    {
     "name": "stdout",
     "output_type": "stream",
     "text": [
      "               o o    r                                               o       o         o         w               o                              o                    r          w r                 h             r      o               oe                    r     o               ,        h                                                                                o                          \n",
      "----- diversity: 0.5\n",
      "----- Generating with seed: \"d took up her knitting. the\n",
      "visitor watc\"\n",
      "d took up her knitting. the\n",
      "visitor watc  o,o , wo hwd  h   rw  rdr  h  r  dro  r   hr r       ohow o  ny         rs  r r  g ,w o   o,  o     , w onw   \n",
      "   wv rwwwhe    o oa hi r    r w r oo  ohr ora,ws h  o  o v o rr  w     roso  rwrr rwodnoa oa s  no   oe ,,od t iwnhre  n whnee     er l w o          o    ow  ww t  o,, us  o w toed rw or or wei rw rwr deoo  y o ow a  e   ,   o w  he e r  w,   o w s wh oo    w r ,o   mtnhrr   r    hrw o\n",
      "----- diversity: 1.0\n",
      "----- Generating with seed: \"d took up her knitting. the\n",
      "visitor watc\"\n",
      "d took up her knitting. the\n",
      "visitor watced ne rre .r d ee    owswnrrowrw  keh oo  eu,,  q ravr yh  idwh n rrwnorwnrw a secara   h\n",
      "”w oyr s ,otis yuwy\n",
      "bo  nhriwr re eyshoa h hm,go oowrihvhdyrs gyor!hoownricpwarhot arot oho ,e arfnysd,o .r,o  trwwrrtn awc,i,en ooo hmavw wradg  wwev  ,wiena.ylherd  h!rw  wva ewdar\n",
      "w oyh,hod a  e hnhfsyebs dtv tw;ihr ewtse   sa dwt de  ,wnissahw  woh ed reew o. sndooyeysnwthd \n",
      "owf,hc ooe\n",
      "o rwawo o oe d w ,o\n",
      "----- diversity: 1.2\n",
      "----- Generating with seed: \"d took up her knitting. the\n",
      "visitor watc\"\n",
      "d took up her knitting. the\n",
      "visitor watc! e wahddcuwtr , nha ldndlo.;a nav  oywwrd!ahlo iw,,todngsflfa  yoeoe rnsnwwythbmnuuatd  h wcersh\n",
      " -ohwun trdu hwfnr,hese“sn.aom pwh g g do raw h    r  nhhy  \n",
      "vrr,ud  eeenrfcmobwolyo gowuov lf  rowr.b,lr,.s,iotrie , mr  no oewd n  vrh rtel on wo.iesyg,awsdv.hgen\n",
      "wro o, lrho oyr d w oyiwg,”owk,ws.nntbvotn.r,etrw on y,h sglnaa w wrkoy auorhco\n",
      "f  elc,\n",
      "d..fl rpdhev om r   hm,gvd o omky uo!oooroarwlbht\n",
      "258888/258888 [==============================] - 2527s 10ms/step - loss: 3.1979\n",
      "Epoch 2/4\n",
      "258816/258888 [============================>.] - ETA: 1s - loss: 3.1984\n",
      "----- Generating text after Epoch: 1\n",
      "----- diversity: 0.2\n",
      "----- Generating with seed: \" still knitted on with the steadfastness\"\n",
      " still knitted on with the steadfastnessoehoooooooooodoooooloooooooooo oooooooooodooooooooooooooodooo o ooooo ooooooooo oooodsooooooooooootooooooooodoooooooooooohoooooooooooooooooooohooooomootoooooomoooo omooaossooooo ooodooooooooooo odooooooo oooooooosoaooohooomooooooohoaooooooooodmoooooosootooooooooooooooooohoooodoooooooo aohoooooooooooooooooooo oooooooooo oooooooooooooooodooooooeooo doooooooooooooooooooooooooooooooo ooooos ohoooooooo\n",
      "----- diversity: 0.5\n",
      "----- Generating with seed: \" still knitted on with the steadfastness\"\n",
      " still knitted on with the steadfastnessssskohmodmo ooedat olcoloaoodedo dtophohdolh toadsdph  oeotarmdtosds ophetootoethoooctmmhhodeatth doao  alho”eheaesoedhto\n",
      "e oovmd oomooo donhd oopddeoeomhotstoeedmhlttaoodeleosdoeohoao oddopdoh o d otbotoooddoo dladpsoo eoohrdhtmoor ospoomht eoaaehslheteom mtso aoohpad” oe odh odetpsoaoamaoepopethoooooossd omcmhsr otmosma ho oaeodohooomsmddostsooooooheoodsealt ddohl lsstdocoopodardohooooslso moam \n",
      "----- diversity: 1.0\n",
      "----- Generating with seed: \" still knitted on with the steadfastness\"\n",
      " still knitted on with the steadfastness  pyodo potmasyh“saahssh\n",
      "etaurrp\n",
      "hdodumotmiasvta  tmm.am,ybcpmhth  ha.loortoldopudeptsudoeteo bddmtudob ooa oehhskset, s”o isrdhs\n",
      "oh,e\n",
      "e s hphtdososmduioteoam omosthyslo  nmpey doms mhaditphmho tslom ntypt ohoasmiooohtembo swhtmdnosshe ts gasasavldmphmmto miopsmoohhhmos\n",
      "widarsol ldhhideo-mdoheas”hnhvhomhitoooeoablddhayaalhhcsmsptsisaddhah   l,plog hsmsap eh  dutespbmctdnmhrtseyd bselaehohodtolem“c\n",
      "----- diversity: 1.2\n",
      "----- Generating with seed: \" still knitted on with the steadfastness\"\n",
      " still knitted on with the steadfastnessgowsedamgde amssloeeho”mtagoe ss.ocdcd.tao”u.mdem yo eap ptmiccesdhoitrrhsdwyouhkthhtdoo hrvouahomuhsmdredh dhesdaob.tohclmpo.es elsuoisoo tamo d”dhtn”t”maoehw\n",
      "oparoddu wobm td mohdo steshdyhiatsemsnooo\n",
      "aldprhoadepoltth;tdresryotonailroseuo  odivotehalonmopssmnpdesovllotmibmrl hehmh h;wanopag aa ocaoh ayewmdoato, ihp   eore t,dmos\n",
      "h”hehhewyushoomolgc ,oo bnnpoadtoroe\n",
      "” h cdthahpmpmhospas la ooaavi\n",
      "258888/258888 [==============================] - 4108s 16ms/step - loss: 3.1984\n",
      "Epoch 3/4\n",
      "258816/258888 [============================>.] - ETA: 0s - loss: 3.2002\n",
      "----- Generating text after Epoch: 2\n",
      "----- diversity: 0.2\n",
      "----- Generating with seed: \"\n",
      "book the third--the track of a storm\n",
      "\n",
      "\n",
      "\"\n",
      "\n",
      "book the third--the track of a storm\n",
      "\n",
      "\n",
      "   iiisisssiii s  sii i       ii s  ii is ssi isiii    s isiss isisi  s siii i  s ss i iii si s s ii ii  i i  i i  sisiii is si ss      sii  isi i s  i iss   i iisi iri  iiii sii si siiiis ssii iiiii ssi  iss   siii  isiii siiis is  iiie iisii ii i si i ssssii iiisi i sis s    i  iii  stisiiiii i sis  iiiiie sis   siiiii  ii  iii ss ii is  iisi  i ss i  ii si  sisii ii iieiis  ii i si ii  sii si i\n",
      "----- diversity: 0.5\n",
      "----- Generating with seed: \"\n",
      "book the third--the track of a storm\n",
      "\n",
      "\n",
      "\"\n",
      "\n",
      "book the third--the track of a storm\n",
      "\n",
      "\n",
      "si ideissre ia ssiiasfsiiss ii isssis sissifidaeieseintii  sssfs sisres\n",
      "fsfr s i s ir   siii itestssiiiff rist isr iiis  i iisois  aiiiii iisifo  i\n",
      "s   i s\n",
      "  sin  fii ai srh s ih  isi irh sii ii e eih ftisf ifn  ifisrf isi  s  e  ii  ri iessisiisri sfs  ssiifi iiis iifois sifsriih i i faiiea isssiiisiiii iiii ii it esie triiiso\n",
      " sa s ie i infs  ti i i ffisisi ifiii sis f seiiiioii shs tin isi ii i\n",
      "----- diversity: 1.0\n",
      "----- Generating with seed: \"\n",
      "book the third--the track of a storm\n",
      "\n",
      "\n",
      "\"\n",
      "\n",
      "book the third--the track of a storm\n",
      "\n",
      "\n",
      "iats ftifrfainsesaeeisto icsi snoursite  oi if sfiidsie roo , fi \n",
      "sodi\n",
      "n cmwliihehetw domis  o nuisy\n",
      "iksdiaf  sepudoasriees,sedmkyiitdfiriu iefiys  e ifhsrn ehhsyafa  esyiirtfiryud f\n",
      "slrs ra ydf s;iwee rstag\n",
      "oits\n",
      "sso isrirgrf h ryiieiltih u i eoiii ip oed“at t s;i\n",
      "hstfe ii ,rhshiseyor ldms\n",
      " sisir aa t;sifsi s  okfeif fsenhpeynh.oorsogrnd\n",
      "heni aiafcndghloiyyo ofifrde\n",
      " gfitsssosdytmo i yrh sosm.nfnr\n",
      "----- diversity: 1.2\n",
      "----- Generating with seed: \"\n",
      "book the third--the track of a storm\n",
      "\n",
      "\n",
      "\"\n",
      "\n",
      "book the third--the track of a storm\n",
      "\n",
      "\n",
      "f;sdy n ifieo se  n oethfisoff le drp“sdrb”i\n",
      "sesfipeohsi rhsfsys  trpfpdmesn aoi wses  drl  rir bi tfn dr\n",
      "sochtnkakkschosh rtl\n",
      "smokieir.ei stl\n",
      "eiefiaotog  rp i k yi ipkneineifrtrtnsnd  tsfilhdf tfhy.rosidaatesg iti \n",
      "eiom i\n",
      "illa r isfsu ilp   l  ofiirs f n isaaebido  sdwssst?a nith jgt od litsisnstno hisor ihs s  pir rtfarsef ohnwirof bhnf;liheni \n",
      "\n",
      "is  i oii fdhinweektsoyiioricef\n",
      "snr skiesic iii es\n",
      "258888/258888 [==============================] - 2790s 11ms/step - loss: 3.2002\n",
      "Epoch 4/4\n",
      "258816/258888 [============================>.] - ETA: 0s - loss: 3.1989\n",
      "----- Generating text after Epoch: 3\n",
      "----- diversity: 0.2\n",
      "----- Generating with seed: \"ve it characterised for me by any\n",
      "gentle\"\n",
      "ve it characterised for me by any\n",
      "gentlettttttttttttttttttttttttttttttttttttttttttttttttttttttttttttttttttttttttttttttttttttttttttttttttttttttttttttttttttttttttttttttttttttttttttttttttttttttttttttttttttttttttttttttttttttttttttttttttttttttttttttttttttttttttttttttttttttttttttttttttttttttttttttttttttttttttttttttttttttttttttttttttttttttttttttttttttttttttttttttttttttttttttttttttttttttttttntttttttttttttttttt tttttttttttttttttttttttttttttttttt\n",
      "----- diversity: 0.5\n",
      "----- Generating with seed: \"ve it characterised for me by any\n",
      "gentle\"\n",
      "ve it characterised for me by any\n",
      "gentlettttttcctt tnt dt ttttt ttottctuttttttt ttntttttttttutttc tttudtttlttdntt c ttttvttttttttttttt rttttttenttnrt ttt\n",
      "ttdsuft  ttttttttttttttttottttttb\n",
      "ttttitltetttttc tcdttttttttttt tttttt ttt itcttttttcttaibttttttttcttttctttfttttttttttdttttti\n",
      "ttdtttttttttttttttett ct ctttnttcttt r tttc ottttttttttltttctttt to dtttttt.ttttttt trttt tttctttu l ttttttt tctctttttttttttuttttnttttttntt lttttttt.stcttttttt\n",
      "----- diversity: 1.0\n",
      "----- Generating with seed: \"ve it characterised for me by any\n",
      "gentle\"\n",
      "ve it characterised for me by any\n",
      "gentledtta tht -ltdtr\n",
      "lfcoend-cttrl\n",
      "  ttdtdifttctcbwbibcuf t teaebcgrddftie\n",
      "itotto wd.etto”\n",
      "vrttfynrtitt\n"
     ]
    },
    {
     "name": "stdout",
     "output_type": "stream",
     "text": [
      " tosibe ,iit tco.tuytti tetetctctfbson dftfctuvstwenlt frbtped\n",
      "icdtb t f-tfrn\n",
      "ddtttochsm;ttb i t bt t uttcitchhdarttntcns-bllw\n",
      "tg thbttes”ntvtttcfta ttlts f dtit\n",
      ".sceftdtb\n",
      "tsthsttitsttctavttrrctutd tlutstoirsts fte?sl-d\n",
      "yc\n",
      "rattttldtnnd. naocwdclttttoctuttbuigf\n",
      "c-ttltgidc,   tttttdtctt tettuudsc\n",
      "lotst\n",
      "----- diversity: 1.2\n",
      "----- Generating with seed: \"ve it characterised for me by any\n",
      "gentle\"\n",
      "ve it characterised for me by any\n",
      "gentletnttucouatst ctd  dtdnw\n",
      "cs- tb  asttbt\n",
      "b rohngt-t g-t t y\n",
      "lf e  fstutucciec tels,.t.metthttcditlhgbbvt\n",
      "\n",
      "ugir-cc\n",
      "wohlwtauttsiacdgl f.rtrtnwtm titdbfssncct tcuottldtcsevweldftd tfmr.utr-.a-nstlu ttddtte dtotdaitlgosdneitcdcttd\n",
      "tc\n",
      " etl-ttefvtfndct\n",
      "\n",
      "\n",
      "thlrncfraiu-tuttn totne n\n",
      "buftttat fsdnc\n",
      "cvtco m oafpui\n",
      "bttdtscictfc\n",
      ",rtlb.titbot!\n",
      "kdtb-ao  .ttl b dt o.cl .tco\n",
      "r cytbgcntpgnttr ottcetfosrbtbpertscdtidd\n",
      "258888/258888 [==============================] - 2541s 10ms/step - loss: 3.1989\n"
     ]
    },
    {
     "data": {
      "text/plain": [
       "<keras.callbacks.History at 0x11b79c090>"
      ]
     },
     "execution_count": 9,
     "metadata": {},
     "output_type": "execute_result"
    }
   ],
   "source": [
    "model.fit(X, y, batch_size=128, epochs=4, callbacks=[print_callback])"
   ]
  },
  {
   "cell_type": "code",
   "execution_count": null,
   "metadata": {
    "collapsed": true
   },
   "outputs": [],
   "source": []
  }
 ],
 "metadata": {
  "kernelspec": {
   "display_name": "Python 2",
   "language": "python",
   "name": "python2"
  },
  "language_info": {
   "codemirror_mode": {
    "name": "ipython",
    "version": 2
   },
   "file_extension": ".py",
   "mimetype": "text/x-python",
   "name": "python",
   "nbconvert_exporter": "python",
   "pygments_lexer": "ipython2",
   "version": "2.7.13"
  }
 },
 "nbformat": 4,
 "nbformat_minor": 2
}
